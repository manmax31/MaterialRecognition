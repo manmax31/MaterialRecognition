{
 "cells": [
  {
   "cell_type": "markdown",
   "metadata": {},
   "source": [
    "# Classifcation using VGG 19"
   ]
  },
  {
   "cell_type": "markdown",
   "metadata": {},
   "source": [
    "In this script, we wil ensemble classifiers trained on different scales (S=256, 384, 256-512)"
   ]
  },
  {
   "cell_type": "markdown",
   "metadata": {},
   "source": [
    "Import necessary libraries"
   ]
  },
  {
   "cell_type": "code",
   "execution_count": 8,
   "metadata": {
    "collapsed": false
   },
   "outputs": [],
   "source": [
    "import numpy as np\n",
    "import pandas as pd\n",
    "import matplotlib.pyplot as plt\n",
    "from os import listdir\n",
    "from os.path import join\n",
    "\n",
    "# Make sure that caffe is on the python path:\n",
    "caffe_root = '../'  # this file is expected to be in {caffe_root}/examples\n",
    "import sys\n",
    "sys.path.insert(0, caffe_root + 'python')\n",
    "\n",
    "import caffe"
   ]
  },
  {
   "cell_type": "markdown",
   "metadata": {},
   "source": [
    "Load Files"
   ]
  },
  {
   "cell_type": "code",
   "execution_count": 11,
   "metadata": {
    "collapsed": true
   },
   "outputs": [],
   "source": [
    "# Set the right path to your model definition file, pretrained model weights,\n",
    "# and the image you would like to classify.\n",
    "MODEL_FILE = '/home/manab/Desktop/VGG/VGG_19_DTD_deploy.prototxt'\n",
    "PRETRAINED = '/home/manab/Documents/models/scaled_256/4/scaled_256_4__iter_3600.caffemodel'\n",
    "IMAGE_FILE = '/srv/datasets/Materials/DTD/dtd-r1.0.1/dtd/output/images_256_512/4/test/braided/braided_0108.jpg'"
   ]
  },
  {
   "cell_type": "markdown",
   "metadata": {},
   "source": [
    "Create Classifier"
   ]
  },
  {
   "cell_type": "code",
   "execution_count": 12,
   "metadata": {
    "collapsed": false
   },
   "outputs": [],
   "source": [
    "caffe.set_mode_gpu()\n",
    "net = caffe.Classifier(MODEL_FILE, PRETRAINED,\n",
    "                        mean=np.array([104,117,123]),\n",
    "                       channel_swap=(2,1,0)\n",
    "                      )\n",
    "input_image = caffe.io.load_image(IMAGE_FILE)\n",
    "# plt.imshow(input_image)"
   ]
  },
  {
   "cell_type": "markdown",
   "metadata": {},
   "source": [
    "Classify image"
   ]
  },
  {
   "cell_type": "code",
   "execution_count": 13,
   "metadata": {
    "collapsed": false
   },
   "outputs": [
    {
     "name": "stdout",
     "output_type": "stream",
     "text": [
      "predicted class: 44\n",
      "[[  5.53827966e-03   2.48561555e-04   2.37294167e-04   4.68413957e-04\n",
      "    2.48373341e-04   5.13151288e-04   1.48783847e-05   6.92048203e-03\n",
      "    2.49806815e-03   1.98515737e-03   2.39526998e-05   1.55925099e-02\n",
      "    2.17754534e-03   7.63042335e-05   6.28086680e-04   4.10376160e-05\n",
      "    2.49185902e-03   2.38265930e-05   2.77247658e-04   1.42125576e-03\n",
      "    1.98349313e-04   2.11126171e-05   2.52884883e-03   2.67493278e-01\n",
      "    8.98666389e-04   2.50554818e-04   2.66818283e-03   6.75845222e-05\n",
      "    1.41202399e-04   1.79370050e-03   2.84269889e-04   1.39116702e-04\n",
      "    2.45447503e-04   1.25887291e-05   2.29804791e-05   7.92024657e-04\n",
      "    1.49644038e-05   3.08768882e-04   3.72116745e-04   3.41106032e-04\n",
      "    5.56923551e-05   2.86221657e-05   2.65883165e-03   8.40608773e-05\n",
      "    6.76785767e-01   3.45740467e-04   2.01673574e-05]]\n"
     ]
    }
   ],
   "source": [
    "prediction = net.predict([input_image])  # predict takes any number of images, and formats them for the Caffe net automatically\n",
    "# print 'prediction shape:', prediction[0].shape\n",
    "# plt.plot(prediction[0])\n",
    "print 'predicted class:', prediction[0].argmax()\n",
    "print prediction\n",
    "# plt.show()"
   ]
  },
  {
   "cell_type": "markdown",
   "metadata": {
    "collapsed": true
   },
   "source": [
    "Classify multilple images"
   ]
  },
  {
   "cell_type": "code",
   "execution_count": 16,
   "metadata": {
    "collapsed": false
   },
   "outputs": [
    {
     "name": "stdout",
     "output_type": "stream",
     "text": [
      "['banded_0142.jpg', 'banded_0060.jpg', 'banded_0030.jpg', 'banded_0066.jpg', 'banded_0086.jpg', 'banded_0111.jpg', 'banded_0102.jpg', 'banded_0100.jpg', 'banded_0072.jpg', 'banded_0106.jpg', 'banded_0033.jpg', 'banded_0073.jpg', 'banded_0105.jpg', 'banded_0083.jpg', 'banded_0093.jpg', 'banded_0094.jpg', 'banded_0044.jpg', 'banded_0121.jpg', 'banded_0146.jpg', 'banded_0124.jpg', 'banded_0025.jpg', 'banded_0006.jpg', 'banded_0147.jpg', 'banded_0012.jpg', 'banded_0107.jpg', 'banded_0079.jpg', 'banded_0069.jpg', 'banded_0046.jpg', 'banded_0128.jpg', 'banded_0113.jpg', 'banded_0088.jpg', 'banded_0034.jpg', 'banded_0114.jpg', 'banded_0096.jpg', 'banded_0081.jpg', 'banded_0022.jpg', 'banded_0067.jpg', 'banded_0097.jpg', 'banded_0059.jpg', 'banded_0049.jpg']\n",
      "predicted class: 44\n",
      "predicted class: 44\n",
      "predicted class: 44\n",
      "predicted class: 44\n",
      "predicted class: 44\n",
      "predicted class: 44\n",
      "predicted class: 44\n",
      "predicted class: 44\n",
      "predicted class: 44\n",
      "predicted class: 44\n",
      "predicted class: 44\n",
      "predicted class: 44\n",
      "predicted class: 44\n",
      "predicted class: 44\n",
      "predicted class: 44\n",
      "predicted class: 44\n",
      "predicted class: 44\n",
      "predicted class: 44\n",
      "predicted class: 44\n",
      "predicted class: 44\n",
      "predicted class: 44\n",
      "predicted class: 44\n",
      "predicted class: 44\n",
      "predicted class: 44\n",
      "predicted class: 44\n",
      "predicted class: 44\n",
      "predicted class: 44\n",
      "predicted class: 44\n",
      "predicted class: 44\n",
      "predicted class: 44\n",
      "predicted class: 44\n",
      "predicted class: 44\n",
      "predicted class: 44\n",
      "predicted class: 44\n",
      "predicted class: 44\n",
      "predicted class: 44\n",
      "predicted class: 44\n",
      "predicted class: 44\n",
      "predicted class: 44\n",
      "predicted class: 44\n"
     ]
    }
   ],
   "source": [
    "src_dir = '/srv/datasets/Materials/DTD/dtd-r1.0.1/dtd/output/images_384/4/test/banded/'\n",
    "images = filter(lambda \n",
    "                image: image.endswith('.jpg'), listdir(src_dir))\n",
    "print images\n",
    "\n",
    "for image in images:\n",
    "    input_image = caffe.io.load_image(join(src_dir, image))\n",
    "    prediction = net.predict([input_image])\n",
    "    print 'predicted class:', prediction[0].argmax()"
   ]
  },
  {
   "cell_type": "code",
   "execution_count": null,
   "metadata": {
    "collapsed": true
   },
   "outputs": [],
   "source": []
  }
 ],
 "metadata": {
  "kernelspec": {
   "display_name": "Python 2",
   "language": "python",
   "name": "python2"
  },
  "language_info": {
   "codemirror_mode": {
    "name": "ipython",
    "version": 2
   },
   "file_extension": ".py",
   "mimetype": "text/x-python",
   "name": "python",
   "nbconvert_exporter": "python",
   "pygments_lexer": "ipython2",
   "version": "2.7.6"
  }
 },
 "nbformat": 4,
 "nbformat_minor": 0
}
