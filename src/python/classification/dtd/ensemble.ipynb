{
 "worksheets": [
  {
   "cells": [
    {
     "cell_type": "heading",
     "metadata": {},
     "level": 1,
     "source": [
      "Classifcation using VGG 19"
     ]
    },
    {
     "cell_type": "markdown",
     "metadata": {},
     "source": [
      "In this script, we wil ensemble classifiers trained on different scales (S=256, 384, 256-512)"
     ]
    },
    {
     "cell_type": "markdown",
     "metadata": {},
     "source": [
      "Import necessary libraries"
     ]
    },
    {
     "cell_type": "code",
     "execution_count": null,
     "metadata": {},
     "outputs": [],
     "input": [
      "import numpy as np\n",
      "import matplotlib.pyplot as plt\n",
      "\n",
      "# Make sure that caffe is on the python path:\n",
      "caffe_root = '../'  # this file is expected to be in {caffe_root}/examples\n",
      "import sys\n",
      "sys.path.insert(0, caffe_root + 'python')\n",
      "\n",
      "import caffe"
     ],
     "language": "python"
    },
    {
     "cell_type": "markdown",
     "metadata": {},
     "source": [
      "Load Files"
     ]
    },
    {
     "cell_type": "code",
     "execution_count": null,
     "metadata": {},
     "outputs": [],
     "input": [
      "# Set the right path to your model definition file, pretrained model weights,\n",
      "# and the image you would like to classify.\n",
      "MODEL_FILE = '../models/bvlc_reference_caffenet/deploy.prototxt'\n",
      "PRETRAINED = '../models/bvlc_reference_caffenet/bvlc_reference_caffenet.caffemodel'\n",
      "IMAGE_FILE = 'images/cat.jpg'"
     ],
     "language": "python"
    },
    {
     "cell_type": "markdown",
     "metadata": {},
     "source": [
      "Create Classifier"
     ]
    },
    {
     "cell_type": "code",
     "execution_count": null,
     "metadata": {},
     "outputs": [],
     "input": [
      "caffe.set_mode_cpu()\n",
      "net = caffe.Classifier(MODEL_FILE, PRETRAINED,\n",
      "                       mean=np.array([104,117,123]),\n",
      "                       channel_swap=(2,1,0),\n",
      "                       )\n",
      "input_image = caffe.io.load_image(IMAGE_FILE)\n",
      "plt.imshow(input_image)"
     ],
     "language": "python"
    },
    {
     "cell_type": "markdown",
     "metadata": {},
     "source": [
      "Classify image"
     ]
    },
    {
     "cell_type": "code",
     "execution_count": null,
     "metadata": {},
     "outputs": [],
     "input": [
      "prediction = net.predict([input_image])  # predict takes any number of images, and formats them for the Caffe net automatically\n",
      "print 'prediction shape:', prediction[0].shape\n",
      "plt.plot(prediction[0])\n",
      "print 'predicted class:', prediction[0].argmax()\n",
      "plt.show()"
     ],
     "language": "python"
    }
   ]
  }
 ],
 "cells": [],
 "metadata": {},
 "nbformat": 3,
 "nbformat_minor": 0
}