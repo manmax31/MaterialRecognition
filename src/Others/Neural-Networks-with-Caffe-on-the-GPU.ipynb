{
 "cells": [
  {
   "cell_type": "markdown",
   "metadata": {},
   "source": [
    "*<center>[www.joyofdata.de](http://blog.joyofdata.de) - [@joyofdata](https://twitter.com/joyofdata) - [github.com/joyofdata](https://github.com/joyofdata)</center>*"
   ]
  },
  {
   "cell_type": "markdown",
   "metadata": {},
   "source": [
    "**<center>More information you will find here: [Neural Networks with Caffe on the GPU](http://www.joyofdata.de/blog/neural-networks-with-caffe-on-the-gpu)</center>**"
   ]
  },
  {
   "cell_type": "markdown",
   "metadata": {},
   "source": [
    "---"
   ]
  },
  {
   "cell_type": "markdown",
   "metadata": {},
   "source": [
    "<center><h1>Training Multi-Layer Neural Network with Caffe</h1></center>"
   ]
  },
  {
   "cell_type": "code",
   "execution_count": 3,
   "metadata": {
    "collapsed": false
   },
   "outputs": [],
   "source": [
    "import subprocess\n",
    "import platform\n",
    "import sys\n",
    "\n",
    "sys.path.append(\"/Users/manabchetia/Downloads/caffe/python/\")\n",
    "import caffe\n",
    "caffe.set_mode_gpu()\n",
    "import lmdb\n",
    "\n",
    "from sklearn.cross_validation import StratifiedShuffleSplit\n",
    "import pandas as pd\n",
    "import numpy as np\n",
    "\n",
    "import matplotlib.pyplot as plt\n",
    "%matplotlib inline"
   ]
  },
  {
   "cell_type": "markdown",
   "metadata": {},
   "source": [
    "#Status Quo"
   ]
  },
  {
   "cell_type": "code",
   "execution_count": 4,
   "metadata": {
    "collapsed": false,
    "scrolled": true
   },
   "outputs": [
    {
     "name": "stdout",
     "output_type": "stream",
     "text": [
      "OS:      Darwin-14.4.0-x86_64-i386-64bit\n",
      "Python:  2.7.10 |Continuum Analytics, Inc.| (default, May 28 2015, 17:04:42) \n",
      "CUDA:    Cuda compilation tools, release 7.0, V7.0.27\n",
      "LMDB:    0.9.14\n"
     ]
    }
   ],
   "source": [
    "print \"OS:     \", platform.platform()\n",
    "print \"Python: \", sys.version.split(\"\\n\")[0]\n",
    "print \"CUDA:   \", subprocess.Popen([\"nvcc\",\"--version\"], stdout=subprocess.PIPE).communicate()[0].split(\"\\n\")[3]\n",
    "print \"LMDB:   \", \".\".join([str(i) for i in lmdb.version()])"
   ]
  },
  {
   "cell_type": "markdown",
   "metadata": {},
   "source": [
    "#Load Data from CSV and Trasform"
   ]
  },
  {
   "cell_type": "markdown",
   "metadata": {},
   "source": [
    "The CSV is assumed to be the training data from the [\"Otto Group Product Classification Challenge\"](https://www.kaggle.com/c/otto-group-product-classification-challenge) at Kaggle. It contains 95 columns:\n",
    "- [0] id (discarded)\n",
    "- [1..93] features (integer values)\n",
    "- [94] label (9 categories - `Class_1,..,Class_9`)"
   ]
  },
  {
   "cell_type": "code",
   "execution_count": 5,
   "metadata": {
    "collapsed": false
   },
   "outputs": [
    {
     "ename": "IOError",
     "evalue": "File train.csv does not exist",
     "output_type": "error",
     "traceback": [
      "\u001b[0;31m---------------------------------------------------------------------------\u001b[0m",
      "\u001b[0;31mIOError\u001b[0m                                   Traceback (most recent call last)",
      "\u001b[0;32m<ipython-input-5-a562fedbf89f>\u001b[0m in \u001b[0;36m<module>\u001b[0;34m()\u001b[0m\n\u001b[0;32m----> 1\u001b[0;31m \u001b[0mdf\u001b[0m \u001b[0;34m=\u001b[0m \u001b[0mpd\u001b[0m\u001b[0;34m.\u001b[0m\u001b[0mread_csv\u001b[0m\u001b[0;34m(\u001b[0m\u001b[0;34m\"train.csv\"\u001b[0m\u001b[0;34m,\u001b[0m \u001b[0msep\u001b[0m\u001b[0;34m=\u001b[0m\u001b[0;34m\",\"\u001b[0m\u001b[0;34m)\u001b[0m\u001b[0;34m\u001b[0m\u001b[0m\n\u001b[0m\u001b[1;32m      2\u001b[0m \u001b[0mfeatures\u001b[0m \u001b[0;34m=\u001b[0m \u001b[0mdf\u001b[0m\u001b[0;34m.\u001b[0m\u001b[0mix\u001b[0m\u001b[0;34m[\u001b[0m\u001b[0;34m:\u001b[0m\u001b[0;34m,\u001b[0m\u001b[0;36m1\u001b[0m\u001b[0;34m:\u001b[0m\u001b[0;34m-\u001b[0m\u001b[0;36m1\u001b[0m\u001b[0;34m]\u001b[0m\u001b[0;34m.\u001b[0m\u001b[0mas_matrix\u001b[0m\u001b[0;34m(\u001b[0m\u001b[0;34m)\u001b[0m\u001b[0;34m\u001b[0m\u001b[0m\n\u001b[1;32m      3\u001b[0m \u001b[0mlabels\u001b[0m \u001b[0;34m=\u001b[0m \u001b[0mdf\u001b[0m\u001b[0;34m.\u001b[0m\u001b[0mix\u001b[0m\u001b[0;34m[\u001b[0m\u001b[0;34m:\u001b[0m\u001b[0;34m,\u001b[0m\u001b[0;34m-\u001b[0m\u001b[0;36m1\u001b[0m\u001b[0;34m]\u001b[0m\u001b[0;34m.\u001b[0m\u001b[0mas_matrix\u001b[0m\u001b[0;34m(\u001b[0m\u001b[0;34m)\u001b[0m\u001b[0;34m\u001b[0m\u001b[0m\n",
      "\u001b[0;32m/Users/manabchetia/anaconda/lib/python2.7/site-packages/pandas/io/parsers.pyc\u001b[0m in \u001b[0;36mparser_f\u001b[0;34m(filepath_or_buffer, sep, dialect, compression, doublequote, escapechar, quotechar, quoting, skipinitialspace, lineterminator, header, index_col, names, prefix, skiprows, skipfooter, skip_footer, na_values, na_fvalues, true_values, false_values, delimiter, converters, dtype, usecols, engine, delim_whitespace, as_recarray, na_filter, compact_ints, use_unsigned, low_memory, buffer_lines, warn_bad_lines, error_bad_lines, keep_default_na, thousands, comment, decimal, parse_dates, keep_date_col, dayfirst, date_parser, memory_map, float_precision, nrows, iterator, chunksize, verbose, encoding, squeeze, mangle_dupe_cols, tupleize_cols, infer_datetime_format, skip_blank_lines)\u001b[0m\n\u001b[1;32m    472\u001b[0m                     skip_blank_lines=skip_blank_lines)\n\u001b[1;32m    473\u001b[0m \u001b[0;34m\u001b[0m\u001b[0m\n\u001b[0;32m--> 474\u001b[0;31m         \u001b[0;32mreturn\u001b[0m \u001b[0m_read\u001b[0m\u001b[0;34m(\u001b[0m\u001b[0mfilepath_or_buffer\u001b[0m\u001b[0;34m,\u001b[0m \u001b[0mkwds\u001b[0m\u001b[0;34m)\u001b[0m\u001b[0;34m\u001b[0m\u001b[0m\n\u001b[0m\u001b[1;32m    475\u001b[0m \u001b[0;34m\u001b[0m\u001b[0m\n\u001b[1;32m    476\u001b[0m     \u001b[0mparser_f\u001b[0m\u001b[0;34m.\u001b[0m\u001b[0m__name__\u001b[0m \u001b[0;34m=\u001b[0m \u001b[0mname\u001b[0m\u001b[0;34m\u001b[0m\u001b[0m\n",
      "\u001b[0;32m/Users/manabchetia/anaconda/lib/python2.7/site-packages/pandas/io/parsers.pyc\u001b[0m in \u001b[0;36m_read\u001b[0;34m(filepath_or_buffer, kwds)\u001b[0m\n\u001b[1;32m    248\u001b[0m \u001b[0;34m\u001b[0m\u001b[0m\n\u001b[1;32m    249\u001b[0m     \u001b[0;31m# Create the parser.\u001b[0m\u001b[0;34m\u001b[0m\u001b[0;34m\u001b[0m\u001b[0m\n\u001b[0;32m--> 250\u001b[0;31m     \u001b[0mparser\u001b[0m \u001b[0;34m=\u001b[0m \u001b[0mTextFileReader\u001b[0m\u001b[0;34m(\u001b[0m\u001b[0mfilepath_or_buffer\u001b[0m\u001b[0;34m,\u001b[0m \u001b[0;34m**\u001b[0m\u001b[0mkwds\u001b[0m\u001b[0;34m)\u001b[0m\u001b[0;34m\u001b[0m\u001b[0m\n\u001b[0m\u001b[1;32m    251\u001b[0m \u001b[0;34m\u001b[0m\u001b[0m\n\u001b[1;32m    252\u001b[0m     \u001b[0;32mif\u001b[0m \u001b[0;34m(\u001b[0m\u001b[0mnrows\u001b[0m \u001b[0;32mis\u001b[0m \u001b[0;32mnot\u001b[0m \u001b[0mNone\u001b[0m\u001b[0;34m)\u001b[0m \u001b[0;32mand\u001b[0m \u001b[0;34m(\u001b[0m\u001b[0mchunksize\u001b[0m \u001b[0;32mis\u001b[0m \u001b[0;32mnot\u001b[0m \u001b[0mNone\u001b[0m\u001b[0;34m)\u001b[0m\u001b[0;34m:\u001b[0m\u001b[0;34m\u001b[0m\u001b[0m\n",
      "\u001b[0;32m/Users/manabchetia/anaconda/lib/python2.7/site-packages/pandas/io/parsers.pyc\u001b[0m in \u001b[0;36m__init__\u001b[0;34m(self, f, engine, **kwds)\u001b[0m\n\u001b[1;32m    564\u001b[0m             \u001b[0mself\u001b[0m\u001b[0;34m.\u001b[0m\u001b[0moptions\u001b[0m\u001b[0;34m[\u001b[0m\u001b[0;34m'has_index_names'\u001b[0m\u001b[0;34m]\u001b[0m \u001b[0;34m=\u001b[0m \u001b[0mkwds\u001b[0m\u001b[0;34m[\u001b[0m\u001b[0;34m'has_index_names'\u001b[0m\u001b[0;34m]\u001b[0m\u001b[0;34m\u001b[0m\u001b[0m\n\u001b[1;32m    565\u001b[0m \u001b[0;34m\u001b[0m\u001b[0m\n\u001b[0;32m--> 566\u001b[0;31m         \u001b[0mself\u001b[0m\u001b[0;34m.\u001b[0m\u001b[0m_make_engine\u001b[0m\u001b[0;34m(\u001b[0m\u001b[0mself\u001b[0m\u001b[0;34m.\u001b[0m\u001b[0mengine\u001b[0m\u001b[0;34m)\u001b[0m\u001b[0;34m\u001b[0m\u001b[0m\n\u001b[0m\u001b[1;32m    567\u001b[0m \u001b[0;34m\u001b[0m\u001b[0m\n\u001b[1;32m    568\u001b[0m     \u001b[0;32mdef\u001b[0m \u001b[0m_get_options_with_defaults\u001b[0m\u001b[0;34m(\u001b[0m\u001b[0mself\u001b[0m\u001b[0;34m,\u001b[0m \u001b[0mengine\u001b[0m\u001b[0;34m)\u001b[0m\u001b[0;34m:\u001b[0m\u001b[0;34m\u001b[0m\u001b[0m\n",
      "\u001b[0;32m/Users/manabchetia/anaconda/lib/python2.7/site-packages/pandas/io/parsers.pyc\u001b[0m in \u001b[0;36m_make_engine\u001b[0;34m(self, engine)\u001b[0m\n\u001b[1;32m    703\u001b[0m     \u001b[0;32mdef\u001b[0m \u001b[0m_make_engine\u001b[0m\u001b[0;34m(\u001b[0m\u001b[0mself\u001b[0m\u001b[0;34m,\u001b[0m \u001b[0mengine\u001b[0m\u001b[0;34m=\u001b[0m\u001b[0;34m'c'\u001b[0m\u001b[0;34m)\u001b[0m\u001b[0;34m:\u001b[0m\u001b[0;34m\u001b[0m\u001b[0m\n\u001b[1;32m    704\u001b[0m         \u001b[0;32mif\u001b[0m \u001b[0mengine\u001b[0m \u001b[0;34m==\u001b[0m \u001b[0;34m'c'\u001b[0m\u001b[0;34m:\u001b[0m\u001b[0;34m\u001b[0m\u001b[0m\n\u001b[0;32m--> 705\u001b[0;31m             \u001b[0mself\u001b[0m\u001b[0;34m.\u001b[0m\u001b[0m_engine\u001b[0m \u001b[0;34m=\u001b[0m \u001b[0mCParserWrapper\u001b[0m\u001b[0;34m(\u001b[0m\u001b[0mself\u001b[0m\u001b[0;34m.\u001b[0m\u001b[0mf\u001b[0m\u001b[0;34m,\u001b[0m \u001b[0;34m**\u001b[0m\u001b[0mself\u001b[0m\u001b[0;34m.\u001b[0m\u001b[0moptions\u001b[0m\u001b[0;34m)\u001b[0m\u001b[0;34m\u001b[0m\u001b[0m\n\u001b[0m\u001b[1;32m    706\u001b[0m         \u001b[0;32melse\u001b[0m\u001b[0;34m:\u001b[0m\u001b[0;34m\u001b[0m\u001b[0m\n\u001b[1;32m    707\u001b[0m             \u001b[0;32mif\u001b[0m \u001b[0mengine\u001b[0m \u001b[0;34m==\u001b[0m \u001b[0;34m'python'\u001b[0m\u001b[0;34m:\u001b[0m\u001b[0;34m\u001b[0m\u001b[0m\n",
      "\u001b[0;32m/Users/manabchetia/anaconda/lib/python2.7/site-packages/pandas/io/parsers.pyc\u001b[0m in \u001b[0;36m__init__\u001b[0;34m(self, src, **kwds)\u001b[0m\n\u001b[1;32m   1070\u001b[0m         \u001b[0mkwds\u001b[0m\u001b[0;34m[\u001b[0m\u001b[0;34m'allow_leading_cols'\u001b[0m\u001b[0;34m]\u001b[0m \u001b[0;34m=\u001b[0m \u001b[0mself\u001b[0m\u001b[0;34m.\u001b[0m\u001b[0mindex_col\u001b[0m \u001b[0;32mis\u001b[0m \u001b[0;32mnot\u001b[0m \u001b[0mFalse\u001b[0m\u001b[0;34m\u001b[0m\u001b[0m\n\u001b[1;32m   1071\u001b[0m \u001b[0;34m\u001b[0m\u001b[0m\n\u001b[0;32m-> 1072\u001b[0;31m         \u001b[0mself\u001b[0m\u001b[0;34m.\u001b[0m\u001b[0m_reader\u001b[0m \u001b[0;34m=\u001b[0m \u001b[0m_parser\u001b[0m\u001b[0;34m.\u001b[0m\u001b[0mTextReader\u001b[0m\u001b[0;34m(\u001b[0m\u001b[0msrc\u001b[0m\u001b[0;34m,\u001b[0m \u001b[0;34m**\u001b[0m\u001b[0mkwds\u001b[0m\u001b[0;34m)\u001b[0m\u001b[0;34m\u001b[0m\u001b[0m\n\u001b[0m\u001b[1;32m   1073\u001b[0m \u001b[0;34m\u001b[0m\u001b[0m\n\u001b[1;32m   1074\u001b[0m         \u001b[0;31m# XXX\u001b[0m\u001b[0;34m\u001b[0m\u001b[0;34m\u001b[0m\u001b[0m\n",
      "\u001b[0;32mpandas/parser.pyx\u001b[0m in \u001b[0;36mpandas.parser.TextReader.__cinit__ (pandas/parser.c:3173)\u001b[0;34m()\u001b[0m\n",
      "\u001b[0;32mpandas/parser.pyx\u001b[0m in \u001b[0;36mpandas.parser.TextReader._setup_parser_source (pandas/parser.c:5912)\u001b[0;34m()\u001b[0m\n",
      "\u001b[0;31mIOError\u001b[0m: File train.csv does not exist"
     ]
    }
   ],
   "source": [
    "df = pd.read_csv(\"train.csv\", sep=\",\")\n",
    "features = df.ix[:,1:-1].as_matrix()\n",
    "labels = df.ix[:,-1].as_matrix()"
   ]
  },
  {
   "cell_type": "code",
   "execution_count": 5,
   "metadata": {
    "collapsed": true
   },
   "outputs": [],
   "source": [
    "vec_log = numpy.vectorize(lambda x: log(x+1))\n",
    "vec_int = numpy.vectorize(lambda str: int(str[-1])-1)"
   ]
  },
  {
   "cell_type": "code",
   "execution_count": 6,
   "metadata": {
    "collapsed": true
   },
   "outputs": [],
   "source": [
    "features = vec_log(features)\n",
    "labels = vec_int(labels)"
   ]
  },
  {
   "cell_type": "markdown",
   "metadata": {},
   "source": [
    "#Stratified Split for Training and Testing"
   ]
  },
  {
   "cell_type": "code",
   "execution_count": 7,
   "metadata": {
    "collapsed": false
   },
   "outputs": [],
   "source": [
    "sss = StratifiedShuffleSplit(labels, 1, test_size=0.02, random_state=0)\n",
    "sss = list(sss)[0]"
   ]
  },
  {
   "cell_type": "code",
   "execution_count": 8,
   "metadata": {
    "collapsed": false
   },
   "outputs": [],
   "source": [
    "features_training = features[sss[0],]\n",
    "labels_training = labels[sss[0],]\n",
    "\n",
    "features_testing = features[sss[1],]\n",
    "labels_testing = labels[sss[1],]"
   ]
  },
  {
   "cell_type": "markdown",
   "metadata": {},
   "source": [
    "#Load Data into LMDB"
   ]
  },
  {
   "cell_type": "code",
   "execution_count": 9,
   "metadata": {
    "collapsed": true
   },
   "outputs": [],
   "source": [
    "# http://deepdish.io/2015/04/28/creating-lmdb-in-python/\n",
    "def load_data_into_lmdb(lmdb_name, features, labels=None):\n",
    "    env = lmdb.open(lmdb_name, map_size=features.nbytes*2)\n",
    "    \n",
    "    features = features[:,:,None,None]\n",
    "    for i in range(features.shape[0]):\n",
    "        datum = caffe.proto.caffe_pb2.Datum()\n",
    "        \n",
    "        datum.channels = features.shape[1]\n",
    "        datum.height = 1\n",
    "        datum.width = 1\n",
    "        \n",
    "        if features.dtype == np.int:\n",
    "            datum.data = features[i].tostring()\n",
    "        elif features.dtype == np.float: \n",
    "            datum.float_data.extend(features[i].flat)\n",
    "        else:\n",
    "            raise Exception(\"features.dtype unknown.\")\n",
    "        \n",
    "        if labels is not None:\n",
    "            datum.label = int(labels[i])\n",
    "        \n",
    "        str_id = '{:08}'.format(i)\n",
    "        with env.begin(write=True) as txn:\n",
    "            txn.put(str_id, datum.SerializeToString())"
   ]
  },
  {
   "cell_type": "code",
   "execution_count": 10,
   "metadata": {
    "collapsed": false
   },
   "outputs": [],
   "source": [
    "load_data_into_lmdb(\"/home/ubuntu/data/train_data_lmdb\", features_training, labels_training)\n",
    "load_data_into_lmdb(\"/home/ubuntu/data/test_data_lmdb\", features_testing, labels_testing)"
   ]
  },
  {
   "cell_type": "markdown",
   "metadata": {},
   "source": [
    "#Check Content of LMDB"
   ]
  },
  {
   "cell_type": "code",
   "execution_count": 11,
   "metadata": {
    "collapsed": false
   },
   "outputs": [],
   "source": [
    "# http://research.beenfrog.com/code/2015/03/28/read-leveldb-lmdb-for-caffe-with-python.html\n",
    "def get_data_for_case_from_lmdb(lmdb_name, id):\n",
    "    lmdb_env = lmdb.open(lmdb_name, readonly=True)\n",
    "    lmdb_txn = lmdb_env.begin()\n",
    "\n",
    "    raw_datum = lmdb_txn.get(id)\n",
    "    datum = caffe.proto.caffe_pb2.Datum()\n",
    "    datum.ParseFromString(raw_datum)\n",
    "\n",
    "    feature = caffe.io.datum_to_array(datum)\n",
    "    label = datum.label\n",
    "\n",
    "    return (label, feature)"
   ]
  },
  {
   "cell_type": "code",
   "execution_count": 12,
   "metadata": {
    "collapsed": false
   },
   "outputs": [
    {
     "data": {
      "text/plain": [
       "(2, array([[[ 0.        ]],\n",
       " \n",
       "        [[ 0.        ]],\n",
       " \n",
       "        [[ 0.        ]],\n",
       " \n",
       "        [[ 0.        ]],\n",
       " \n",
       "        [[ 0.        ]],\n",
       " \n",
       "        [[ 0.69314718]],\n",
       " \n",
       "        [[ 0.69314718]],\n",
       " \n",
       "        [ ... ],\n",
       " \n",
       "        [[ 0.        ]],\n",
       " \n",
       "        [[ 0.69314718]],\n",
       " \n",
       "        [[ 0.        ]]]))"
      ]
     },
     "execution_count": 12,
     "metadata": {},
     "output_type": "execute_result"
    }
   ],
   "source": [
    "get_data_for_case_from_lmdb(\"/home/ubuntu/data/train_data_lmdb/\", \"00012345\")"
   ]
  },
  {
   "cell_type": "markdown",
   "metadata": {},
   "source": [
    "#Training the Model"
   ]
  },
  {
   "cell_type": "code",
   "execution_count": 13,
   "metadata": {
    "collapsed": false
   },
   "outputs": [],
   "source": [
    "proc = subprocess.Popen(\n",
    "    [\"/home/ubuntu/caffe/build/tools/caffe\",\"train\",\"--solver=config.prototxt\"], \n",
    "    stderr=subprocess.PIPE)\n",
    "res = proc.communicate()[1]\n",
    "\n",
    "# http://nbviewer.ipython.org/github/BVLC/caffe/blob/master/examples/hdf5_classification.ipynb\n",
    "# or\n",
    "# caffe.set_mode_gpu()\n",
    "# solver = caffe.get_solver(\"config.prototxt\")\n",
    "# solver.solve()"
   ]
  },
  {
   "cell_type": "code",
   "execution_count": 14,
   "metadata": {
    "collapsed": false
   },
   "outputs": [
    {
     "name": "stdout",
     "output_type": "stream",
     "text": [
      "libdc1394 error: Failed to initialize libdc1394\n",
      "I0508 12:19:01.337918  2310 caffe.cpp:113] Use GPU with device ID 0\n",
      "I0508 12:19:01.502816  2310 caffe.cpp:121] Starting Optimization\n",
      "I0508 12:19:01.502984  2310 solver.cpp:32] Initializing solver from parameters: \n",
      "test_iter: 100\n",
      "test_interval: 10000\n",
      "base_lr: 0.01\n",
      "display: 10000\n",
      "max_iter: 100000\n",
      "lr_policy: \"inv\"\n",
      "gamma: 0.0001\n",
      "power: 0.75\n",
      "momentum: 0.9\n",
      "weight_decay: 0.0005\n",
      "solver_mode: GPU\n",
      "net: \"model_train_test.prototxt\"\n",
      "I0508 12:19:01.503021  2310 solver.cpp:70] Creating training net from net file: model_train_test.prototxt\n",
      "I0508 12:19:01.503921  2310 net.cpp:257] The NetState phase (0) differed from the phase (1) specified by a rule in layer simple\n",
      "I0508 12:19:01.503988  2310 net.cpp:257] The NetState phase (0) differed from the phase (1) specified by a rule in layer accuracy\n",
      "I0508 12:19:01.504057  2310 net.cpp:42] Initializing net from parameters: \n",
      "name: \"otto\"\n",
      "state {\n",
      "  phase: TRAIN\n",
      "}\n",
      "layer {\n",
      "  name: \"otto\"\n",
      "  type: \"Data\"\n",
      "  top: \"data\"\n",
      "  top: \"label\"\n",
      "  include {\n",
      "    phase: TRAIN\n",
      "  }\n",
      "  data_param {\n",
      "    source: \"train_data_lmdb\"\n",
      "    batch_size: 64\n",
      "    backend: LMDB\n",
      "  }\n",
      "}\n",
      "layer {\n",
      "  name: \"ip1\"\n",
      "  type: \"InnerProduct\"\n",
      "  bottom: \"data\"\n",
      "  top: \"ip1\"\n",
      "  inner_product_param {\n",
      "    num_output: 30\n",
      "    weight_filler {\n",
      "      type: \"xavier\"\n",
      "    }\n",
      "    bias_filler {\n",
      "      type: \"constant\"\n",
      "      value: 0\n",
      "    }\n",
      "  }\n",
      "}\n",
      "layer {\n",
      "  name: \"relu1\"\n",
      "  type: \"ReLU\"\n",
      "  bottom: \"ip1\"\n",
      "  top: \"ip1\"\n",
      "}\n",
      "layer {\n",
      "  name: \"ip2\"\n",
      "  type: \"InnerProduct\"\n",
      "  bottom: \"ip1\"\n",
      "  top: \"ip2\"\n",
      "  inner_product_param {\n",
      "    num_output: 9\n",
      "    weight_filler {\n",
      "      type: \"xavier\"\n",
      "    }\n",
      "    bias_filler {\n",
      "      type: \"constant\"\n",
      "      value: 0\n",
      "    }\n",
      "  }\n",
      "}\n",
      "layer {\n",
      "  name: \"loss\"\n",
      "  type: \"SoftmaxWithLoss\"\n",
      "  bottom: \"ip2\"\n",
      "  bottom: \"label\"\n",
      "  top: \"loss\"\n",
      "}\n",
      "I0508 12:19:01.504134  2310 layer_factory.hpp:74] Creating layer otto\n",
      "I0508 12:19:01.505414  2310 net.cpp:84] Creating Layer otto\n",
      "I0508 12:19:01.505437  2310 net.cpp:338] otto -> data\n",
      "I0508 12:19:01.505470  2310 net.cpp:338] otto -> label\n",
      "I0508 12:19:01.505489  2310 net.cpp:113] Setting up otto\n",
      "I0508 12:19:01.505575  2310 db.cpp:34] Opened lmdb train_data_lmdb\n",
      "I0508 12:19:01.505663  2310 data_layer.cpp:67] output data size: 64,93,1,1\n",
      "I0508 12:19:01.505764  2310 net.cpp:120] Top shape: 64 93 1 1 (5952)\n",
      "I0508 12:19:01.505779  2310 net.cpp:120] Top shape: 64 (64)\n",
      "I0508 12:19:01.505791  2310 layer_factory.hpp:74] Creating layer ip1\n",
      "I0508 12:19:01.505807  2310 net.cpp:84] Creating Layer ip1\n",
      "I0508 12:19:01.505818  2310 net.cpp:380] ip1 <- data\n",
      "I0508 12:19:01.505838  2310 net.cpp:338] ip1 -> ip1\n",
      "I0508 12:19:01.505857  2310 net.cpp:113] Setting up ip1\n",
      "I0508 12:19:01.506310  2310 net.cpp:120] Top shape: 64 30 (1920)\n",
      "I0508 12:19:01.506335  2310 layer_factory.hpp:74] Creating layer relu1\n",
      "I0508 12:19:01.506350  2310 net.cpp:84] Creating Layer relu1\n",
      "I0508 12:19:01.506360  2310 net.cpp:380] relu1 <- ip1\n",
      "I0508 12:19:01.506367  2310 net.cpp:327] relu1 -> ip1 (in-place)\n",
      "I0508 12:19:01.506378  2310 net.cpp:113] Setting up relu1\n",
      "I0508 12:19:04.415382  2310 net.cpp:120] Top shape: 64 30 (1920)\n",
      "I0508 12:19:04.415416  2310 layer_factory.hpp:74] Creating layer ip2\n",
      "I0508 12:19:04.415432  2310 net.cpp:84] Creating Layer ip2\n",
      "I0508 12:19:04.415446  2310 net.cpp:380] ip2 <- ip1\n",
      "I0508 12:19:04.415457  2310 net.cpp:338] ip2 -> ip2\n",
      "I0508 12:19:04.415477  2310 net.cpp:113] Setting up ip2\n",
      "I0508 12:19:04.415506  2310 net.cpp:120] Top shape: 64 9 (576)\n",
      "I0508 12:19:04.415524  2310 layer_factory.hpp:74] Creating layer loss\n",
      "I0508 12:19:04.416088  2310 net.cpp:84] Creating Layer loss\n",
      "I0508 12:19:04.416102  2310 net.cpp:380] loss <- ip2\n",
      "I0508 12:19:04.416110  2310 net.cpp:380] loss <- label\n",
      "I0508 12:19:04.416121  2310 net.cpp:338] loss -> loss\n",
      "I0508 12:19:04.416137  2310 net.cpp:113] Setting up loss\n",
      "I0508 12:19:04.416153  2310 layer_factory.hpp:74] Creating layer loss\n",
      "I0508 12:19:04.416234  2310 net.cpp:120] Top shape: (1)\n",
      "I0508 12:19:04.416247  2310 net.cpp:122]     with loss weight 1\n",
      "I0508 12:19:04.416277  2310 net.cpp:167] loss needs backward computation.\n",
      "I0508 12:19:04.416283  2310 net.cpp:167] ip2 needs backward computation.\n",
      "I0508 12:19:04.416293  2310 net.cpp:167] relu1 needs backward computation.\n",
      "I0508 12:19:04.416298  2310 net.cpp:167] ip1 needs backward computation.\n",
      "I0508 12:19:04.416331  2310 net.cpp:169] otto does not need backward computation.\n",
      "I0508 12:19:04.416337  2310 net.cpp:205] This network produces output loss\n",
      "I0508 12:19:04.416350  2310 net.cpp:447] Collecting Learning Rate and Weight Decay.\n",
      "I0508 12:19:04.416360  2310 net.cpp:217] Network initialization done.\n",
      "I0508 12:19:04.416365  2310 net.cpp:218] Memory required for data: 41732\n",
      "I0508 12:19:04.416591  2310 solver.cpp:154] Creating test net (#0) specified by net file: model_train_test.prototxt\n",
      "I0508 12:19:04.416620  2310 net.cpp:257] The NetState phase (1) differed from the phase (0) specified by a rule in layer otto\n",
      "I0508 12:19:04.416688  2310 net.cpp:42] Initializing net from parameters: \n",
      "name: \"otto\"\n",
      "state {\n",
      "  phase: TEST\n",
      "}\n",
      "layer {\n",
      "  name: \"simple\"\n",
      "  type: \"Data\"\n",
      "  top: \"data\"\n",
      "  top: \"label\"\n",
      "  include {\n",
      "    phase: TEST\n",
      "  }\n",
      "  data_param {\n",
      "    source: \"test_data_lmdb\"\n",
      "    batch_size: 100\n",
      "    backend: LMDB\n",
      "  }\n",
      "}\n",
      "layer {\n",
      "  name: \"ip1\"\n",
      "  type: \"InnerProduct\"\n",
      "  bottom: \"data\"\n",
      "  top: \"ip1\"\n",
      "  inner_product_param {\n",
      "    num_output: 30\n",
      "    weight_filler {\n",
      "      type: \"xavier\"\n",
      "    }\n",
      "    bias_filler {\n",
      "      type: \"constant\"\n",
      "      value: 0\n",
      "    }\n",
      "  }\n",
      "}\n",
      "layer {\n",
      "  name: \"relu1\"\n",
      "  type: \"ReLU\"\n",
      "  bottom: \"ip1\"\n",
      "  top: \"ip1\"\n",
      "}\n",
      "layer {\n",
      "  name: \"ip2\"\n",
      "  type: \"InnerProduct\"\n",
      "  bottom: \"ip1\"\n",
      "  top: \"ip2\"\n",
      "  inner_product_param {\n",
      "    num_output: 9\n",
      "    weight_filler {\n",
      "      type: \"xavier\"\n",
      "    }\n",
      "    bias_filler {\n",
      "      type: \"constant\"\n",
      "      value: 0\n",
      "    }\n",
      "  }\n",
      "}\n",
      "layer {\n",
      "  name: \"accuracy\"\n",
      "  type: \"Accuracy\"\n",
      "  bottom: \"ip2\"\n",
      "  bottom: \"label\"\n",
      "  top: \"accuracy\"\n",
      "  include {\n",
      "    phase: TEST\n",
      "  }\n",
      "}\n",
      "layer {\n",
      "  name: \"loss\"\n",
      "  type: \"SoftmaxWithLoss\"\n",
      "  bottom: \"ip2\"\n",
      "  bottom: \"label\"\n",
      "  top: \"loss\"\n",
      "}\n",
      "I0508 12:19:04.416759  2310 layer_factory.hpp:74] Creating layer simple\n",
      "I0508 12:19:04.416776  2310 net.cpp:84] Creating Layer simple\n",
      "I0508 12:19:04.416787  2310 net.cpp:338] simple -> data\n",
      "I0508 12:19:04.416798  2310 net.cpp:338] simple -> label\n",
      "I0508 12:19:04.416811  2310 net.cpp:113] Setting up simple\n",
      "I0508 12:19:04.416862  2310 db.cpp:34] Opened lmdb test_data_lmdb\n",
      "I0508 12:19:04.416890  2310 data_layer.cpp:67] output data size: 100,93,1,1\n",
      "I0508 12:19:04.416952  2310 net.cpp:120] Top shape: 100 93 1 1 (9300)\n",
      "I0508 12:19:04.416966  2310 net.cpp:120] Top shape: 100 (100)\n",
      "I0508 12:19:04.416972  2310 layer_factory.hpp:74] Creating layer label_simple_1_split\n",
      "I0508 12:19:04.416990  2310 net.cpp:84] Creating Layer label_simple_1_split\n",
      "I0508 12:19:04.416999  2310 net.cpp:380] label_simple_1_split <- label\n",
      "I0508 12:19:04.417007  2310 net.cpp:338] label_simple_1_split -> label_simple_1_split_0\n",
      "I0508 12:19:04.417021  2310 net.cpp:338] label_simple_1_split -> label_simple_1_split_1\n",
      "I0508 12:19:04.417035  2310 net.cpp:113] Setting up label_simple_1_split\n",
      "I0508 12:19:04.417049  2310 net.cpp:120] Top shape: 100 (100)\n",
      "I0508 12:19:04.417060  2310 net.cpp:120] Top shape: 100 (100)\n",
      "I0508 12:19:04.417067  2310 layer_factory.hpp:74] Creating layer ip1\n",
      "I0508 12:19:04.417076  2310 net.cpp:84] Creating Layer ip1\n",
      "I0508 12:19:04.417083  2310 net.cpp:380] ip1 <- data\n",
      "I0508 12:19:04.417091  2310 net.cpp:338] ip1 -> ip1\n",
      "I0508 12:19:04.417104  2310 net.cpp:113] Setting up ip1\n",
      "I0508 12:19:04.417143  2310 net.cpp:120] Top shape: 100 30 (3000)\n",
      "I0508 12:19:04.417160  2310 layer_factory.hpp:74] Creating layer relu1\n",
      "I0508 12:19:04.417172  2310 net.cpp:84] Creating Layer relu1\n",
      "I0508 12:19:04.417179  2310 net.cpp:380] relu1 <- ip1\n",
      "I0508 12:19:04.417186  2310 net.cpp:327] relu1 -> ip1 (in-place)\n",
      "I0508 12:19:04.417198  2310 net.cpp:113] Setting up relu1\n",
      "I0508 12:19:04.417255  2310 net.cpp:120] Top shape: 100 30 (3000)\n",
      "I0508 12:19:04.417268  2310 layer_factory.hpp:74] Creating layer ip2\n",
      "I0508 12:19:04.417278  2310 net.cpp:84] Creating Layer ip2\n",
      "I0508 12:19:04.417286  2310 net.cpp:380] ip2 <- ip1\n",
      "I0508 12:19:04.417295  2310 net.cpp:338] ip2 -> ip2\n",
      "I0508 12:19:04.417307  2310 net.cpp:113] Setting up ip2\n",
      "I0508 12:19:04.417325  2310 net.cpp:120] Top shape: 100 9 (900)\n",
      "I0508 12:19:04.417338  2310 layer_factory.hpp:74] Creating layer ip2_ip2_0_split\n",
      "I0508 12:19:04.417347  2310 net.cpp:84] Creating Layer ip2_ip2_0_split\n",
      "I0508 12:19:04.417369  2310 net.cpp:380] ip2_ip2_0_split <- ip2\n",
      "I0508 12:19:04.417377  2310 net.cpp:338] ip2_ip2_0_split -> ip2_ip2_0_split_0\n",
      "I0508 12:19:04.417392  2310 net.cpp:338] ip2_ip2_0_split -> ip2_ip2_0_split_1\n",
      "I0508 12:19:04.417400  2310 net.cpp:113] Setting up ip2_ip2_0_split\n",
      "I0508 12:19:04.417410  2310 net.cpp:120] Top shape: 100 9 (900)\n",
      "I0508 12:19:04.417418  2310 net.cpp:120] Top shape: 100 9 (900)\n",
      "I0508 12:19:04.417423  2310 layer_factory.hpp:74] Creating layer accuracy\n",
      "I0508 12:19:04.417459  2310 net.cpp:84] Creating Layer accuracy\n",
      "I0508 12:19:04.417474  2310 net.cpp:380] accuracy <- ip2_ip2_0_split_0\n",
      "I0508 12:19:04.417480  2310 net.cpp:380] accuracy <- label_simple_1_split_0\n",
      "I0508 12:19:04.417489  2310 net.cpp:338] accuracy -> accuracy\n",
      "I0508 12:19:04.417498  2310 net.cpp:113] Setting up accuracy\n",
      "I0508 12:19:04.417511  2310 net.cpp:120] Top shape: (1)\n",
      "I0508 12:19:04.417521  2310 layer_factory.hpp:74] Creating layer loss\n",
      "I0508 12:19:04.417528  2310 net.cpp:84] Creating Layer loss\n",
      "I0508 12:19:04.417537  2310 net.cpp:380] loss <- ip2_ip2_0_split_1\n",
      "I0508 12:19:04.417543  2310 net.cpp:380] loss <- label_simple_1_split_1\n",
      "I0508 12:19:04.417556  2310 net.cpp:338] loss -> loss\n",
      "I0508 12:19:04.417563  2310 net.cpp:113] Setting up loss\n",
      "I0508 12:19:04.417574  2310 layer_factory.hpp:74] Creating layer loss\n",
      "I0508 12:19:04.417726  2310 net.cpp:120] Top shape: (1)\n",
      "I0508 12:19:04.417742  2310 net.cpp:122]     with loss weight 1\n",
      "I0508 12:19:04.417750  2310 net.cpp:167] loss needs backward computation.\n",
      "I0508 12:19:04.417757  2310 net.cpp:169] accuracy does not need backward computation.\n",
      "I0508 12:19:04.417764  2310 net.cpp:167] ip2_ip2_0_split needs backward computation.\n",
      "I0508 12:19:04.417768  2310 net.cpp:167] ip2 needs backward computation.\n",
      "I0508 12:19:04.417773  2310 net.cpp:167] relu1 needs backward computation.\n",
      "I0508 12:19:04.417779  2310 net.cpp:167] ip1 needs backward computation.\n",
      "I0508 12:19:04.417785  2310 net.cpp:169] label_simple_1_split does not need backward computation.\n",
      "I0508 12:19:04.417790  2310 net.cpp:169] simple does not need backward computation.\n",
      "I0508 12:19:04.417795  2310 net.cpp:205] This network produces output accuracy\n",
      "I0508 12:19:04.417800  2310 net.cpp:205] This network produces output loss\n",
      "I0508 12:19:04.417815  2310 net.cpp:447] Collecting Learning Rate and Weight Decay.\n",
      "I0508 12:19:04.417824  2310 net.cpp:217] Network initialization done.\n",
      "I0508 12:19:04.417829  2310 net.cpp:218] Memory required for data: 73208\n",
      "I0508 12:19:04.417873  2310 solver.cpp:42] Solver scaffolding done.\n",
      "I0508 12:19:04.417899  2310 solver.cpp:222] Solving otto\n",
      "I0508 12:19:04.417911  2310 solver.cpp:223] Learning Rate Policy: inv\n",
      "I0508 12:19:04.417919  2310 solver.cpp:266] Iteration 0, Testing net (#0)\n",
      "I0508 12:19:04.460979  2310 solver.cpp:315]     Test net output #0: accuracy = 0.1831\n",
      "I0508 12:19:04.461011  2310 solver.cpp:315]     Test net output #1: loss = 2.25925 (* 1 = 2.25925 loss)\n",
      "I0508 12:19:04.461773  2310 solver.cpp:189] Iteration 0, loss = 2.14817\n",
      "I0508 12:19:04.461799  2310 solver.cpp:204]     Train net output #0: loss = 2.14817 (* 1 = 2.14817 loss)\n",
      "I0508 12:19:04.461817  2310 solver.cpp:464] Iteration 0, lr = 0.01\n",
      "I0508 12:19:09.527751  2310 solver.cpp:266] Iteration 10000, Testing net (#0)\n",
      "I0508 12:19:09.571025  2310 solver.cpp:315]     Test net output #0: accuracy = 0.7784\n",
      "I0508 12:19:09.571063  2310 solver.cpp:315]     Test net output #1: loss = 0.558455 (* 1 = 0.558455 loss)\n",
      "I0508 12:19:09.571552  2310 solver.cpp:189] Iteration 10000, loss = 0.577026\n",
      "I0508 12:19:09.571574  2310 solver.cpp:204]     Train net output #0: loss = 0.577026 (* 1 = 0.577026 loss)\n",
      "I0508 12:19:09.571591  2310 solver.cpp:464] Iteration 10000, lr = 0.00594604\n",
      "I0508 12:19:14.722017  2310 solver.cpp:266] Iteration 20000, Testing net (#0)\n",
      "I0508 12:19:14.765653  2310 solver.cpp:315]     Test net output #0: accuracy = 0.7919\n",
      "I0508 12:19:14.765692  2310 solver.cpp:315]     Test net output #1: loss = 0.537067 (* 1 = 0.537067 loss)\n",
      "I0508 12:19:14.766103  2310 solver.cpp:189] Iteration 20000, loss = 0.632795\n",
      "I0508 12:19:14.766165  2310 solver.cpp:204]     Train net output #0: loss = 0.632795 (* 1 = 0.632795 loss)\n",
      "I0508 12:19:14.766178  2310 solver.cpp:464] Iteration 20000, lr = 0.00438691\n",
      "I0508 12:19:19.922034  2310 solver.cpp:266] Iteration 30000, Testing net (#0)\n",
      "I0508 12:19:19.964999  2310 solver.cpp:315]     Test net output #0: accuracy = 0.7859\n",
      "I0508 12:19:19.965039  2310 solver.cpp:315]     Test net output #1: loss = 0.535475 (* 1 = 0.535475 loss)\n",
      "I0508 12:19:19.965441  2310 solver.cpp:189] Iteration 30000, loss = 0.697927\n",
      "I0508 12:19:19.965468  2310 solver.cpp:204]     Train net output #0: loss = 0.697927 (* 1 = 0.697927 loss)\n",
      "I0508 12:19:19.965479  2310 solver.cpp:464] Iteration 30000, lr = 0.00353553\n",
      "I0508 12:19:25.167050  2310 solver.cpp:266] Iteration 40000, Testing net (#0)\n",
      "I0508 12:19:25.210865  2310 solver.cpp:315]     Test net output #0: accuracy = 0.7933\n",
      "I0508 12:19:25.210904  2310 solver.cpp:315]     Test net output #1: loss = 0.534498 (* 1 = 0.534498 loss)\n",
      "I0508 12:19:25.211313  2310 solver.cpp:189] Iteration 40000, loss = 0.352082\n",
      "I0508 12:19:25.211338  2310 solver.cpp:204]     Train net output #0: loss = 0.352082 (* 1 = 0.352082 loss)\n",
      "I0508 12:19:25.211354  2310 solver.cpp:464] Iteration 40000, lr = 0.0029907\n",
      "I0508 12:19:30.322751  2310 solver.cpp:266] Iteration 50000, Testing net (#0)\n",
      "I0508 12:19:30.367033  2310 solver.cpp:315]     Test net output #0: accuracy = 0.7888\n",
      "I0508 12:19:30.367086  2310 solver.cpp:315]     Test net output #1: loss = 0.530166 (* 1 = 0.530166 loss)\n",
      "I0508 12:19:30.367511  2310 solver.cpp:189] Iteration 50000, loss = 0.586298\n",
      "I0508 12:19:30.367533  2310 solver.cpp:204]     Train net output #0: loss = 0.586298 (* 1 = 0.586298 loss)\n",
      "I0508 12:19:30.367544  2310 solver.cpp:464] Iteration 50000, lr = 0.00260847\n",
      "I0508 12:19:35.499639  2310 solver.cpp:266] Iteration 60000, Testing net (#0)\n",
      "I0508 12:19:35.544010  2310 solver.cpp:315]     Test net output #0: accuracy = 0.7936\n",
      "I0508 12:19:35.544049  2310 solver.cpp:315]     Test net output #1: loss = 0.532958 (* 1 = 0.532958 loss)\n",
      "I0508 12:19:35.544478  2310 solver.cpp:189] Iteration 60000, loss = 0.490088\n",
      "I0508 12:19:35.544502  2310 solver.cpp:204]     Train net output #0: loss = 0.490088 (* 1 = 0.490088 loss)\n",
      "I0508 12:19:35.544514  2310 solver.cpp:464] Iteration 60000, lr = 0.00232368\n",
      "I0508 12:19:40.707180  2310 solver.cpp:266] Iteration 70000, Testing net (#0)\n",
      "I0508 12:19:40.749495  2310 solver.cpp:315]     Test net output #0: accuracy = 0.7839\n",
      "I0508 12:19:40.749534  2310 solver.cpp:315]     Test net output #1: loss = 0.530616 (* 1 = 0.530616 loss)\n",
      "I0508 12:19:40.749927  2310 solver.cpp:189] Iteration 70000, loss = 0.350372\n",
      "I0508 12:19:40.749953  2310 solver.cpp:204]     Train net output #0: loss = 0.350372 (* 1 = 0.350372 loss)\n",
      "I0508 12:19:40.749966  2310 solver.cpp:464] Iteration 70000, lr = 0.00210224\n",
      "I0508 12:19:45.909342  2310 solver.cpp:266] Iteration 80000, Testing net (#0)\n",
      "I0508 12:19:45.953330  2310 solver.cpp:315]     Test net output #0: accuracy = 0.7882\n",
      "I0508 12:19:45.953367  2310 solver.cpp:315]     Test net output #1: loss = 0.529338 (* 1 = 0.529338 loss)\n",
      "I0508 12:19:45.953785  2310 solver.cpp:189] Iteration 80000, loss = 0.436605\n",
      "I0508 12:19:45.953809  2310 solver.cpp:204]     Train net output #0: loss = 0.436605 (* 1 = 0.436605 loss)\n",
      "I0508 12:19:45.953819  2310 solver.cpp:464] Iteration 80000, lr = 0.0019245\n",
      "I0508 12:19:51.088989  2310 solver.cpp:266] Iteration 90000, Testing net (#0)\n",
      "I0508 12:19:51.134217  2310 solver.cpp:315]     Test net output #0: accuracy = 0.787\n",
      "I0508 12:19:51.134254  2310 solver.cpp:315]     Test net output #1: loss = 0.525386 (* 1 = 0.525386 loss)\n",
      "I0508 12:19:51.134697  2310 solver.cpp:189] Iteration 90000, loss = 0.521645\n",
      "I0508 12:19:51.134722  2310 solver.cpp:204]     Train net output #0: loss = 0.521645 (* 1 = 0.521645 loss)\n",
      "I0508 12:19:51.134732  2310 solver.cpp:464] Iteration 90000, lr = 0.00177828\n",
      "I0508 12:19:56.294564  2310 solver.cpp:334] Snapshotting to _iter_100001.caffemodel\n",
      "I0508 12:19:56.294857  2310 solver.cpp:342] Snapshotting solver state to _iter_100001.solverstate\n",
      "I0508 12:19:56.295253  2310 solver.cpp:248] Iteration 100000, loss = 0.353043\n",
      "I0508 12:19:56.295280  2310 solver.cpp:266] Iteration 100000, Testing net (#0)\n",
      "I0508 12:19:56.338987  2310 solver.cpp:315]     Test net output #0: accuracy = 0.7866\n",
      "I0508 12:19:56.339017  2310 solver.cpp:315]     Test net output #1: loss = 0.529087 (* 1 = 0.529087 loss)\n",
      "I0508 12:19:56.339030  2310 solver.cpp:253] Optimization Done.\n",
      "I0508 12:19:56.339035  2310 caffe.cpp:134] Optimization Done.\n",
      "\n"
     ]
    }
   ],
   "source": [
    "print res"
   ]
  },
  {
   "cell_type": "markdown",
   "metadata": {},
   "source": [
    "#Applying the Model"
   ]
  },
  {
   "cell_type": "code",
   "execution_count": 15,
   "metadata": {
    "collapsed": true
   },
   "outputs": [],
   "source": [
    "net = caffe.Net(\"model_prod.prototxt\",\"./_iter_100001.caffemodel\", caffe.TEST)"
   ]
  },
  {
   "cell_type": "code",
   "execution_count": 16,
   "metadata": {
    "collapsed": false
   },
   "outputs": [
    {
     "name": "stdout",
     "output_type": "stream",
     "text": [
      "True \n",
      "{'prob': array([[ 0.00519855,  0.83611858,  0.05120391,  0.07174591,  0.0020012 ,\n",
      "         0.00854634,  0.0165364 ,  0.00283596,  0.00581307]], dtype=float32)}\n"
     ]
    },
    {
     "data": {
      "text/plain": [
       "<Container object of 9 artists>"
      ]
     },
     "execution_count": 16,
     "metadata": {},
     "output_type": "execute_result"
    },
    {
     "data": {
      "image/png": "[encoded data removed]",
      "text/plain": [
       "<matplotlib.figure.Figure at 0x7fa700763f10>"
      ]
     },
     "metadata": {},
     "output_type": "display_data"
    }
   ],
   "source": [
    "l, f = get_data_for_case_from_lmdb(\"/home/ubuntu/data/test_data_lmdb/\", \"00001230\")\n",
    "out = net.forward(**{net.inputs[0]: np.asarray([f])})\n",
    "\n",
    "# if the index of the largest element matches the integer\n",
    "# label we stored for that case - then the prediction is right\n",
    "print np.argmax(out[\"prob\"][0]) == l, \"\\n\", out\n",
    "plt.bar(range(9),out[\"prob\"][0])"
   ]
  },
  {
   "cell_type": "markdown",
   "metadata": {},
   "source": [
    "#Visualizing the Network Graph"
   ]
  },
  {
   "cell_type": "code",
   "execution_count": 6,
   "metadata": {
    "collapsed": false
   },
   "outputs": [
    {
     "data": {
      "image/png": "[encoded data removed]",
      "text/plain": [
       "<IPython.core.display.Image object>"
      ]
     },
     "metadata": {},
     "output_type": "display_data"
    }
   ],
   "source": [
    "from google.protobuf import text_format\n",
    "from caffe.draw import get_pydot_graph\n",
    "from caffe.proto import caffe_pb2\n",
    "from IPython.display import display, Image \n",
    "\n",
    "_net = caffe_pb2.NetParameter()\n",
    "f = open(\"model_prod.prototxt\")\n",
    "text_format.Merge(f.read(), _net)\n",
    "display(Image(get_pydot_graph(_net,\"TB\").create_png()))"
   ]
  },
  {
   "cell_type": "markdown",
   "metadata": {},
   "source": [
    "#Visualizing the Weights"
   ]
  },
  {
   "cell_type": "code",
   "execution_count": 192,
   "metadata": {
    "collapsed": false
   },
   "outputs": [],
   "source": [
    "# weights connecting the input with relu1\n",
    "arr = net.params[\"ip1\"][0].data"
   ]
  },
  {
   "cell_type": "code",
   "execution_count": 222,
   "metadata": {
    "collapsed": false
   },
   "outputs": [
    {
     "data": {
      "image/png": "[encoded data removed]",
      "text/plain": [
       "<matplotlib.figure.Figure at 0x7f0ba952c150>"
      ]
     },
     "metadata": {},
     "output_type": "display_data"
    }
   ],
   "source": [
    "fig = plt.figure(figsize=(10,10))\n",
    "ax = fig.add_subplot(111)\n",
    "fig.colorbar(cax, orientation=\"horizontal\")\n",
    "cax = ax.matshow(arr, interpolation='none')\n"
   ]
  },
  {
   "cell_type": "code",
   "execution_count": 230,
   "metadata": {
    "collapsed": false
   },
   "outputs": [
    {
     "data": {
      "image/png": "[encoded data removed]",
      "text/plain": [
       "<matplotlib.figure.Figure at 0x7f0b92f8a0d0>"
      ]
     },
     "metadata": {},
     "output_type": "display_data"
    }
   ],
   "source": [
    "_ = plt.hist(arr.tolist(), bins=20)"
   ]
  }
 ],
 "metadata": {
  "kernelspec": {
   "display_name": "Python 2",
   "language": "python",
   "name": "python2"
  },
  "language_info": {
   "codemirror_mode": {
    "name": "ipython",
    "version": 2
   },
   "file_extension": ".py",
   "mimetype": "text/x-python",
   "name": "python",
   "nbconvert_exporter": "python",
   "pygments_lexer": "ipython2",
   "version": "2.7.10"
  }
 },
 "nbformat": 4,
 "nbformat_minor": 0
}
